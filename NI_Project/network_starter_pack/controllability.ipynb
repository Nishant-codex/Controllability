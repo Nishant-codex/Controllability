{
  "nbformat": 4,
  "nbformat_minor": 0,
  "metadata": {
    "colab": {
      "name": "Changes in demo.ipynb",
      "version": "0.3.2",
      "provenance": [],
      "collapsed_sections": [],
      "toc_visible": true
    },
    "language_info": {
      "codemirror_mode": {
        "name": "ipython",
        "version": 3
      },
      "file_extension": ".py",
      "mimetype": "text/x-python",
      "name": "python",
      "nbconvert_exporter": "python",
      "pygments_lexer": "ipython3",
      "version": "3.7.2"
    },
    "kernelspec": {
      "name": "python3",
      "display_name": "Python 3"
    },
    "accelerator": "GPU"
  },
  "cells": [
    {
      "cell_type": "code",
      "metadata": {
        "id": "Bq8vm1rI3n8U",
        "colab_type": "code",
        "colab": {}
      },
      "source": [
        "import numpy as np\n",
        "import pandas as pd\n",
        "import matplotlib.pyplot as plt\n",
        "from mpl_toolkits.axes_grid1 import make_axes_locatable\n",
        "%matplotlib inline\n",
        "import networkx as nx\n",
        "\n",
        "\n",
        "#from functions import load_parameters, timeIntegrationRK4\n",
        "#---------------------------------------------------------\n",
        "                \n",
        "import numba \n"
      ],
      "execution_count": 0,
      "outputs": []
    },
    {
      "cell_type": "code",
      "metadata": {
        "id": "7zutEtUV7LjX",
        "colab_type": "code",
        "colab": {}
      },
      "source": [
        "def plotSpikeTrain(us, params):\n",
        "    '''\n",
        "    Spike train as an image. \n",
        "    Parameter dictionary is only passed for the image title.\n",
        "    '''\n",
        "    fig, ax = plt.subplots(1,1,figsize=(10,5), dpi=100)\n",
        "    im = ax.pcolormesh(us, cmap='gray')\n",
        "    divider = make_axes_locatable(ax)\n",
        "    cax = divider.append_axes(\"right\", size=\"2%\", pad=0.05)\n",
        "    fig.colorbar(im, cax = cax)\n",
        "    ax.set_xlabel('Simulated timesteps [dt={}ms]'.format(params['dt']))\n",
        "    ax.set_ylabel(r'Activity $u(t)$ for each node')\n",
        "    ax.set_title(r'Spike trains for $I={}, K={}, \\sigma={}, c={}$'.format(params['I'],params['K'],params['sigma'],params['c']))\n",
        "    plt.show()\n",
        "    \n",
        "def plotSpikeTrainappended(us, params):\n",
        "    '''\n",
        "    Spike train as an image. \n",
        "    Parameter dictionary is only passed for the image title.\n",
        "    '''\n",
        "\n",
        "    for i in range(len(us)):\n",
        "      fig, ax = plt.subplots(1,1,figsize=(5,3), dpi=100)\n",
        "\n",
        "      im = ax.pcolormesh(us[i], cmap='gray')\n",
        "      divider = make_axes_locatable(ax)\n",
        "      cax = divider.append_axes(\"right\", size=\"2%\", pad=0.05)\n",
        "      fig.colorbar(im, cax = cax)\n",
        "      ax.set_xlabel('Simulated timesteps [dt={}ms]'.format(params[i]['dt']))\n",
        "      ax.set_ylabel(r'Activity $u(t)$ for each node')\n",
        "      ax.set_title(r'Spike trains for $I={}, K={}, \\sigma={}, c={}$'.format(params[i]['I'],params[i]['K'],params[i]['sigma'],params[i]['c']))\n",
        "      plt.show()"
      ],
      "execution_count": 0,
      "outputs": []
    },
    {
      "cell_type": "code",
      "metadata": {
        "id": "6y4f9LUlDthc",
        "colab_type": "code",
        "colab": {}
      },
      "source": [
        "'''import numpy as np\n",
        "import matplotlib.pyplot as plt\n",
        "import numba\n",
        "'''\n",
        "def load_parameters(n,singleNode=False, globalN=0):\n",
        "    class struct(object):\n",
        "        pass\n",
        "\n",
        "    params = struct()\n",
        "    #FHN parameters with:\n",
        "    '''\n",
        "    du/dt = -alpha u^3 + beta u^2 - gamma u - w + I_{ext}\n",
        "    dw/dt = 1/tau (u + delta  - epsilon w)\n",
        "    '''\n",
        "    params.alpha = 3. # eps in \"kostova2005\" paper\n",
        "    params.beta = 4. # eps(1+lam)\n",
        "    params.gamma = -1.5 # lam eps\n",
        "    params.delta = 0.\n",
        "    params.epsilon = 0.5 # a\n",
        "    params.tau = 20. \n",
        "    \n",
        "    ### runtime parameters\n",
        "    params.dt = 0.1  # simulation timestep in ms \n",
        "    params.duration = 3000  # Simulation duration in ms\n",
        "\n",
        "    ### network parameters\n",
        "    if singleNode: # if you only want a single node with those parameters\n",
        "        N = 1\n",
        "        params.SC = np.zeros((N, N))\n",
        "        params.DM = np.zeros((N, N))\n",
        "    elif globalN>0: # if you want a network of N nodes, all uniformly connected\n",
        "        N = globalN\n",
        "        SC = np.ones((N,N))\n",
        "        np.fill_diagonal(SC, 0)\n",
        "        params.SC = SC\n",
        "\n",
        "    else: # this is what you usually want! Here you load the netowrk topology from the DTI images\n",
        "        SCs90_HCP10 = np.load('HCP10_SCs_aal90_EVnorm.npy')\n",
        "\n",
        "        SC = SCs90_HCP10[n]#np.mean(SCs90_HCP10,axis=0)\n",
        "       \t\n",
        "        N = SC.shape[0]          \n",
        "        params.SC = SC\n",
        "        \n",
        "    params.N = N  # number of nodes\n",
        "\n",
        "    ### global parameters\n",
        "    params.I = 0.5 # Background input\n",
        "    params.K = 0.  # global coupling strength\n",
        "    params.sigma = 0. # Variance of the additive noise\n",
        "    params.c = 0.  # signal transmission speed\n",
        "    \n",
        "    ### Initialization noise\n",
        "    params.init = (0,0,0,0) #initialize randomly with u in [0,1] & w in [2,3]\n",
        "\n",
        "    params_dict = params.__dict__\n",
        "    return params_dict#SC.shape #SCs90_HCP10[0].size\n",
        "\n",
        "# @numba.jit(nonpyhton=True)\n",
        "def load_parameters_v(patient=0, singleNode=False, globalN=0):\n",
        "    class struct(object):\n",
        "        pass\n",
        "\n",
        "    params = struct()\n",
        "    #FHN parameters with:\n",
        "    '''\n",
        "    du/dt = -alpha u^3 + beta u^2 - gamma u - w + I_{ext}\n",
        "    dw/dt = 1/tau (u + delta  - epsilon w)\n",
        "    '''\n",
        "    params.alpha = 3. # eps in \"kostova2005\" paper\n",
        "    params.beta = 4. # eps(1+lam)\n",
        "    params.gamma = -1.5 # lam eps\n",
        "    params.delta = 0.\n",
        "    params.epsilon = 0.5 # a\n",
        "    params.tau = 20. \n",
        "    \n",
        "    ### runtime parameters\n",
        "    params.dt = 0.1  # simulation timestep in ms \n",
        "    params.duration = 3000  # Simulation duration in ms\n",
        "\n",
        "    ### network parameters\n",
        "    if singleNode: # if you only want a single node with those parameters\n",
        "        N = 1\n",
        "        params.SC = np.zeros((N, N))\n",
        "        params.DM = np.zeros((N, N))\n",
        "    elif globalN>0: # if you want a network of N nodes, all uniformly connected\n",
        "        N = globalN\n",
        "        SC = np.ones((N,N))\n",
        "        np.fill_diagonal(SC, 0)\n",
        "        params.SC = SC\n",
        "\n",
        "    else: # this is what you usually want! Here you load the netowrk topology from the DTI images\n",
        "        SCs90_HCP10 = np.load('HCP10_SCs_aal90_EVnorm.npy')\n",
        "        if(patient>0 and patient<11):\n",
        "          \n",
        "          SC = SCs90_HCP10[patient-1]\n",
        "        else: \n",
        "          SC =np.mean(SCs90_HCP10,axis=0)\n",
        "       \t\n",
        "        N = SC.shape[0]          \n",
        "        params.SC = SC\n",
        "        \n",
        "    params.N = N  # number of nodes\n",
        "\n",
        "    ### global parameters\n",
        "    params.I = 0.5 # Background input\n",
        "    params.K = 0.  # global coupling strength\n",
        "    params.sigma = 0. # Variance of the additive noise\n",
        "    params.c = 0.  # signal transmission speed\n",
        "    \n",
        "    ### Initialization noise\n",
        "    params.init = (0,0,0,0) #initialize randomly with u in [0,1] & w in [2,3]\n",
        "\n",
        "    params_dict = params.__dict__\n",
        "    return params_dict#SC.shape #SCs90_HCP10[0].size\n",
        "\n",
        "def timeIntegrationRK4( params, randomseed=0, step=False, m= 90,fe=False,x=0,y=0):\n",
        "    '''\n",
        "    Integrate the FHN equations including noise and coupling with RK4 scheme using @numba \n",
        "    and return the trajectories for the potential and the recovery variable.\n",
        "    Equations:\n",
        "    du_i/dt = - alpha u_i^3 + beta u_i^2 + gamma u_i - w + I + K * SC_ij*u_j(t-c*DM_ij) + sigma*noise \n",
        "    dw_i/dt = u_i - delta - epsilon w_i / tau\n",
        "    (in the implementation u=x, w=y, noise and delay are ignored)\n",
        "    Args:\n",
        "        params: Parameter dictionary obtained by load_parameters() + modifications\n",
        "        Important parameters for the integration are:\n",
        "            init: (u0min, u0max, w0min, w0max): Limits for randomly drawn initial conditions for every node [mV]\n",
        "            alpha, beta, gamma: FHN node parameters, determine du/dt\n",
        "            delta, epsilons=None, tau: FHN node parameters, determine dw/dt            \n",
        "            I: Constant background input \n",
        "            K: >0, Global coupling strength\n",
        "            sigma: >0, Variance of the additive noise\n",
        "            c: >=0, Transmission speed, converts the connection length in DM (DTI data) to a delay, no delay for c=0\n",
        "            dt: Timestep for simulation [ms]\n",
        "            duration: Total simulated time [ms]\n",
        "            randomseed: for reproducibility\n",
        "    ''' \n",
        "    # load parameters from dictionary\n",
        "    N = params['N']\n",
        "    SC = params['SC']\n",
        "    dt = params['dt']\n",
        "    duration = params['duration']\n",
        "    I = params['I']\n",
        "    c = params['c']\n",
        "    K = params['K']\n",
        "    sigma = params['sigma']\n",
        "    init = params['init']\n",
        "   \n",
        "    # FHN parameters\n",
        "    alpha = params['alpha']\n",
        "    beta = params['beta']\n",
        "    gamma = params['gamma']\n",
        "    delta = params['delta']\n",
        "    epsilon = params['epsilon']\n",
        "    tau = params['tau']\n",
        "\n",
        "    # return arrays\n",
        "    ts = np.arange(0, duration, dt)\n",
        "    xs = np.zeros((N, len(ts)))\n",
        "    ys = np.zeros((N, len(ts)))\n",
        "    \n",
        "    if randomseed > 0:\n",
        "        np.random.seed(randomseed)\n",
        "    # initial conditions\n",
        "    x_init = np.random.uniform(init[0], init[1], N)\n",
        "    y_init = np.random.uniform(init[2], init[3], N)\n",
        "    if (type(x)==int and type(y)==int):\n",
        "      xs[:,0] = x_init\n",
        "      ys[:,0] = y_init\n",
        "    else:\n",
        "      xs[:,0] = x\n",
        "      ys[:,0] = y\n",
        "      \n",
        "\n",
        "    # actual integration is done with numba for speedup\n",
        "    ts, xs, ys = timeIntegrationRK4Numba(dt, duration, \n",
        "                                N, SC, I, K, \n",
        "                                alpha, beta, gamma, delta, epsilon, tau,\n",
        "                                ts, xs, ys, step, m,fe)\n",
        "    \n",
        "    return ts, xs, ys, x_init, y_init\n",
        "\n"
      ],
      "execution_count": 0,
      "outputs": []
    },
    {
      "cell_type": "code",
      "metadata": {
        "id": "lwOs29jgIbeK",
        "colab_type": "code",
        "colab": {}
      },
      "source": [
        "  \n",
        "@numba.njit(locals = {'idxX': numba.int64, 'idxY':numba.int64, 'idx1':numba.int64, 'idy1':numba.int64})\n",
        "\n",
        "def timeIntegrationRK4Numba(dt, duration, \n",
        "                            N, SC, I, K, \n",
        "                            alpha, beta, gamma, delta, epsilon, tau,\n",
        "                            ts, xs, ys, step, m,fe):\n",
        "    # load initial values\n",
        "    x = xs[:,0].copy()\n",
        "    y = ys[:,0].copy()\n",
        "    I_def = I\n",
        "    if(step==True):\n",
        "      I = 0\n",
        "    for t in range(len(ts)):\n",
        "      if step ==True:\n",
        "        if (t %3000 ==0):\n",
        "          I+=0.1\n",
        "          I_def = I\n",
        "      for n in range(N):# loop over all nodes\n",
        "            if(m <90 ):\n",
        "              if (n== m):\n",
        "                if(fe==True):\n",
        "                  if(t>int(len(ts)/2)):\n",
        "                    I=0.6\n",
        "                  else:\n",
        "                    I=I_def\n",
        "                else:\n",
        "                  I=0.6\n",
        "              elif(step==True): \n",
        "                I = I_def\n",
        "              else:#\n",
        "                I = I_def\n",
        "            x_ext = 0  # input from other nodes to the activation variable\n",
        "\n",
        "              \n",
        "            for i in range(N):# get input of every other node\n",
        "\n",
        "                x_ext = x_ext + SC[i, n] * xs[i, t]\n",
        "            # update FHN equations - use RK4 integration scheme (don't mind too much what happens here...)\n",
        "            x_k1 = - alpha * x[n]**3 + beta * x[n]**2 + gamma * x[n] - y[n] + K * x_ext + I\n",
        "            y_k1 = (x[n] - delta - epsilon*y[n])/tau\n",
        "            x_k2 = - alpha * (x[n]+0.5*dt*x_k1)**3 + beta * (x[n]+0.5*dt*x_k1)**2 + gamma * (x[n]+0.5*dt*x_k1) - (y[n]+0.5*dt*y_k1) + K * x_ext + I\n",
        "            y_k2 = ((x[n]+0.5*dt*x_k1) - delta - epsilon*(y[n]+0.5*dt*y_k1))/tau\n",
        "            x_k3 = - alpha * (x[n]+0.5*dt*x_k2)**3 + beta * (x[n]+0.5*dt*x_k2)**2 + gamma * (x[n]+0.5*dt*x_k2) - (y[n]+0.5*dt*y_k2) + K * x_ext + I\n",
        "            y_k3 = ((x[n]+0.5*dt*x_k2) - delta - epsilon*(y[n]+0.5*dt*y_k2))/tau\n",
        "            x_k4 = - alpha * (x[n]+1.0*dt*x_k3)**3 + beta * (x[n]+1.0*dt*x_k3)**2 + gamma * (x[n]+1.0*dt*x_k3) - (y[n]+1.0*dt*y_k3) + K * x_ext + I\n",
        "            y_k4 = ((x[n]+1.0*dt*x_k3) - delta - epsilon*(y[n]+1.0*dt*y_k3))/tau\n",
        "            \n",
        "            ### update x_n\n",
        "            x[n] = x[n] + 1./6.*(x_k1+2*x_k2+2*x_k3+x_k4) * dt\n",
        "            y[n] = y[n] + 1./6.*(y_k1+2*y_k2+2*y_k3+y_k4) * dt\n",
        "\n",
        "            ### save state\n",
        "            xs[n,t+1] = x[n]\n",
        "            ys[n,t+1] = y[n]\n",
        "\n",
        "    return ts, xs, ys\n",
        "\n",
        "  \n",
        "\n",
        "  \n",
        "\n"
      ],
      "execution_count": 0,
      "outputs": []
    },
    {
      "cell_type": "markdown",
      "metadata": {
        "id": "r0pwBnF63n8g",
        "colab_type": "text"
      },
      "source": [
        "## Zeroth Case: Single Node\n"
      ]
    },
    {
      "cell_type": "code",
      "metadata": {
        "id": "ry81c0mA3n8i",
        "colab_type": "code",
        "outputId": "acb47b9d-39c6-48bc-a9e6-8146bfb87475",
        "colab": {
          "base_uri": "https://localhost:8080/",
          "height": 295
        }
      },
      "source": [
        "par0LS = load_parameters(n=0,singleNode=True)\n",
        "par0LS['duration']=500; par0LS['I'] = 0.6\n",
        "ts, xs0LS, _, _,_ = timeIntegrationRK4(par0LS, randomseed=42)\n",
        "plt.plot(ts, xs0LS[0], label='Low State')\n",
        "par0LC = load_parameters(0,singleNode=True)\n",
        "par0LC['duration']=500; par0LC['I'] = 1.\n",
        "ts, xs0LC, _, _,_ = timeIntegrationRK4(par0LC, randomseed=42)\n",
        "plt.plot(ts, xs0LC[0], label='Limit Cycle')\n",
        "par0HS = load_parameters(0,singleNode=True)\n",
        "par0HS['duration']=500; par0HS['I'] = 1.4\n",
        "ts, xs0HS, _, _,_ = timeIntegrationRK4(par0HS, randomseed=42)\n",
        "plt.plot(ts, xs0HS[0], label='High State')\n",
        "plt.xlabel('Time [ms]');plt.ylabel('Activity');plt.title('Single Node')\n",
        "plt.legend();plt.show()"
      ],
      "execution_count": 9,
      "outputs": [
        {
          "output_type": "display_data",
          "data": {
            "image/png": "[encoded data removed]",
            "text/plain": [
              "<Figure size 432x288 with 1 Axes>"
            ]
          },
          "metadata": {
            "tags": []
          }
        }
      ]
    },
    {
      "cell_type": "markdown",
      "metadata": {
        "id": "pLTGUu2P3n8q",
        "colab_type": "text"
      },
      "source": [
        "# \"Network Dynamics Playground\"\n",
        "## First Case: No Activity\n",
        "$K \\equiv 0$ (no coupling between the nodes) and  $I_{ext} \\equiv 0.6$ (before bifurcation)"
      ]
    },
    {
      "cell_type": "code",
      "metadata": {
        "id": "3Bz6oKVQ3n8s",
        "colab_type": "code",
        "outputId": "c0f944bd-9f9b-424b-bc57-a4f6cf1a6e42",
        "colab": {
          "base_uri": "https://localhost:8080/",
          "height": 1000
        }
      },
      "source": [
        "par1 = load_parameters_v()\n",
        "par1['I'] = 0.6\n",
        "par1['K'] = 0.0\n",
        "\n",
        "m=0\n",
        "#ts, xs1, ys, _,_ = timeIntegrationRK4(par1, randomseed=42)\n",
        "ts, xs1, ys, _,_ = timeIntegrationRK4(par1, randomseed=42, step=False, m =22)\n",
        "ts, xs12,ys12, _,_ = timeIntegrationRK4(par1, randomseed=42, step=False)\n",
        "plotSpikeTrain(xs1, par1)\n",
        "plotSpikeTrain(xs12,par1)\n",
        "ts, xs123,ys, _,_ = timeIntegrationRK4(par1, randomseed=42, step=False,x=xs12[:,29999],y=ys12[:,29999])\n",
        "plotSpikeTrain(xs123,par1)\n",
        "np.linalg.norm(xs12-xs123)\n",
        "dist0 = xs1\n",
        "\n"
      ],
      "execution_count": 39,
      "outputs": [
        {
          "output_type": "display_data",
          "data": {
            "image/png": "[encoded data removed]",
            "text/plain": [
              "<Figure size 1000x500 with 2 Axes>"
            ]
          },
          "metadata": {
            "tags": []
          }
        },
        {
          "output_type": "display_data",
          "data": {
            "image/png": "[encoded data removed]",
            "text/plain": [
              "<Figure size 1000x500 with 2 Axes>"
            ]
          },
          "metadata": {
            "tags": []
          }
        },
        {
          "output_type": "display_data",
          "data": {
            "image/png": "[encoded data removed]",
            "text/plain": [
              "<Figure size 1000x500 with 2 Axes>"
            ]
          },
          "metadata": {
            "tags": []
          }
        }
      ]
    },
    {
      "cell_type": "markdown",
      "metadata": {
        "id": "HKp86l703n8z",
        "colab_type": "text"
      },
      "source": [
        "## Second Case: Individual Nodes\n",
        "$K \\equiv 0$ (no coupling between the nodes) and  $I_{ext} \\equiv 0.8$ (in limit cycle)"
      ]
    },
    {
      "cell_type": "code",
      "metadata": {
        "id": "wG6rPSdk3n80",
        "colab_type": "code",
        "colab": {}
      },
      "source": [
        "# par2 = load_parameters_v()\n",
        "# par2['I'] = 0.8\n",
        "# par2['K'] = 0.0\n",
        "\n",
        "# ts, xs2, ys, _,_ = timeIntegrationRK4(par2, randomseed=42, step=False)\n",
        "\n",
        "# plotSpikeTrain(xs2, par2)"
      ],
      "execution_count": 0,
      "outputs": []
    },
    {
      "cell_type": "markdown",
      "metadata": {
        "id": "BZe_ZYBM3n87",
        "colab_type": "text"
      },
      "source": [
        "## Third (and interesting) Case: Coupling Leads to Activity\n",
        "$K \\equiv 0.5$ (nodes are coupled according to structual connectivity matrix) and  $I_{ext} \\equiv 0.6$ (constant background)"
      ]
    },
    {
      "cell_type": "markdown",
      "metadata": {
        "id": "xkxmEqcr3n9D",
        "colab_type": "text"
      },
      "source": [
        "# ..."
      ]
    },
    {
      "cell_type": "code",
      "metadata": {
        "id": "BPb4tNHgi4SX",
        "colab_type": "code",
        "colab": {}
      },
      "source": [
        "# par3 = load_parameters_v()\n",
        "# par3['I'] = 0.362\n",
        "# par3['K'] = 0.6\n",
        " \n",
        "# ts, xs3, ys, _,_ = timeIntegrationRK4(par3, randomseed=42, step=False, m=22,x=xs12[:,29999],y=ys12[:,29999])\n",
        "\n",
        "# plotSpikeTrain(xs3[:,5000:10000], par3)"
      ],
      "execution_count": 0,
      "outputs": []
    },
    {
      "cell_type": "code",
      "metadata": {
        "id": "NpR3Tc-x3n88",
        "colab_type": "code",
        "colab": {}
      },
      "source": [
        "# par3 = []#load_parameters(0)\n",
        "# xs3_ = []\n",
        "# for i in range(10):\n",
        "#   par3.append(load_parameters(i))\n",
        "  \n",
        "#   par3[i]['I'] = 0.6\n",
        "#   par3[i]['K'] = 0.5\n",
        "\n",
        "#   ts, xs3, ys, _,_ = timeIntegrationRK4(par3[i], randomseed=43,step=True)\n",
        "#   xs3_.append(xs3)\n",
        "#   #plotSpikeTrain(xs3, par3[i])\n",
        "# plotSpikeTrainappended(xs3_,par3)"
      ],
      "execution_count": 0,
      "outputs": []
    },
    {
      "cell_type": "code",
      "metadata": {
        "id": "5romoqsh3n9F",
        "colab_type": "code",
        "colab": {}
      },
      "source": [
        "# par4 = load_parameters_v()\n",
        "# par4['I'] = 0.6\n",
        "# par4['K'] = 0.2\n",
        "\n",
        "# ts, xs4, ys, _,_ = timeIntegrationRK4(par4, randomseed=43,step=True,m=21,x=xs12[:,29999],y=ys12[:,29999])\n",
        "\n",
        "# plotSpikeTrain(xs4, par4)"
      ],
      "execution_count": 0,
      "outputs": []
    },
    {
      "cell_type": "code",
      "metadata": {
        "id": "uctgaqoU3n9M",
        "colab_type": "code",
        "colab": {}
      },
      "source": [
        "\n",
        "# par3 = []#load_parameters(0)\n",
        "# xs3_ = []\n",
        "# for i in range(10):\n",
        "#   par3.append(load_parameters(i))\n",
        "  \n",
        "#   par3[i]['I'] = 1\n",
        "#   par3[i]['K'] = 0.5\n",
        "\n",
        "#   ts, xs3, ys, _,_ = timeIntegrationRK4(par3[i], randomseed=43)\n",
        "#   xs3_.append(xs3)\n",
        "#   #plotSpikeTrain(xs3, par3[i])\n",
        "# plotSpikeTrainappended(xs3_,par3)"
      ],
      "execution_count": 0,
      "outputs": []
    },
    {
      "cell_type": "code",
      "metadata": {
        "id": "VCd62vjXSAOJ",
        "colab_type": "code",
        "colab": {}
      },
      "source": [
        "par4 = load_parameters_v(patient=1)\n",
        "par4['I'] = 0.36\n",
        "par4['K'] = 0.71\n",
        "\n",
        "ts, xs4, ys, _,_ = timeIntegrationRK4(par4, randomseed=43,m=22,x=xs12[:,29999],fe=True,y=ys12[:,29999])\n",
        "\n",
        "plotSpikeTrain(xs4, par4)"
      ],
      "execution_count": 0,
      "outputs": []
    },
    {
      "cell_type": "markdown",
      "metadata": {
        "id": "eGa06HeykeQu",
        "colab_type": "text"
      },
      "source": [
        "# Variance beteween subjects during the simulation "
      ]
    },
    {
      "cell_type": "code",
      "metadata": {
        "id": "uHCsgux63n9R",
        "colab_type": "code",
        "colab": {}
      },
      "source": [
        "# par3 = []#load_parameters(0)\n",
        "# xs3_ = []\n",
        "# for i in range(10):\n",
        "#   par3.append(load_parameters(i))\n",
        "  \n",
        "#   par3[i]['I'] = 0.6\n",
        "#   par3[i]['K'] = 0.2\n",
        "\n",
        "#   ts, xs3, ys,_,_ = timeIntegrationRK4(par3[i], randomseed=43)\n",
        "  \n",
        "#   xs3_.append(xs3)\n",
        "#   #plotSpikeTrain(xs3, par3[i])\n",
        "  \n",
        "# a= np.array(xs3_)\n",
        "\n",
        "# # plotSpikeTrain(np.var(a,axis=0),par3[0])"
      ],
      "execution_count": 0,
      "outputs": []
    },
    {
      "cell_type": "markdown",
      "metadata": {
        "id": "z4AAOtrb5UxO",
        "colab_type": "text"
      },
      "source": [
        "Creates a dictionary for all the nodes with stimulus in order of activation (0->89) (u=0.6)\n",
        "\n",
        "\n"
      ]
    },
    {
      "cell_type": "markdown",
      "metadata": {
        "id": "zNIIt3KxKd62",
        "colab_type": "text"
      },
      "source": [
        "#Value dictionary"
      ]
    },
    {
      "cell_type": "code",
      "metadata": {
        "id": "ykGB0g3lkYt9",
        "colab_type": "code",
        "colab": {}
      },
      "source": [
        "# k=0\n",
        "# patient_list_fe0 = []\n",
        "# patient_list_fe1 = []\n",
        "# for k in range(10):\n",
        "dist1_fe0 ={}\n",
        "dist1_fe1={}\n",
        "#   print(k)\n",
        "#   a = np.arange(0,1,0.05)\n",
        "for i in range(90):#a:\n",
        "    par5 = load_parameters_v()\n",
        "    par5['I'] = 0.36\n",
        "    par5['K'] = 0.6\n",
        "    ts, xs5, ys, _,_ = timeIntegrationRK4(par5, randomseed=43,step=False, m=i,x=xs12[:,29999],y=ys12[:,29999]) #initialization with low input\n",
        "    dist1_fe0[i] = xs5\n",
        "    ts, xs6, ys, _,_ = timeIntegrationRK4(par5, randomseed=43,step=False, m=i,fe=True,x=xs12[:,29999],y=ys12[:,29999]) #initialization with low input\n",
        "    dist1_fe1[i] = xs6\n",
        "#   patient_list_fe0.append(dist1_fe0)\n",
        "#   patient_list_fe1.append(dist1_fe1)\n",
        "\n",
        "#       if(i ==22):\n",
        "#         plotSpikeTrain(xs5, par5)\n",
        "#         plotSpikeTrain(xs6, par5)\n",
        "\n",
        "def create_val_dict(K,I ,node=100,patient=0):\n",
        "#     k=0\n",
        "    dist1_fe0 ={}\n",
        "    dist1_fe1={}\n",
        "\n",
        "    \n",
        "    for i in range(90):#a:\n",
        "        par5 = load_parameters_v(patient=patient)\n",
        "        par5['I'] = I\n",
        "        par5['K'] = K\n",
        "        ts, xs5, ys, _,_ = timeIntegrationRK4(par5, randomseed=43,step=False, m=i,x=xs12[:,29999],y=ys12[:,29999]) #initialization with low input\n",
        "        dist1_fe0[i] = xs5\n",
        "        ts, xs6, ys, _,_ = timeIntegrationRK4(par5, randomseed=43,step=False, m=i,fe=True,x=xs12[:,29999],y=ys12[:,29999]) #initialization with low input\n",
        "        dist1_fe1[i] = xs6\n",
        "\n",
        "\n",
        "    #     if(k==89):\n",
        "    #       break\n",
        "    #     else:\n",
        "    #       k+=1\n",
        "        if(i ==node):\n",
        "          plotSpikeTrain(xs5, par5)\n",
        "          plotSpikeTrain(xs6, par5)\n",
        "    return(dist1_fe0,dist1_fe1)"
      ],
      "execution_count": 0,
      "outputs": []
    },
    {
      "cell_type": "code",
      "metadata": {
        "id": "W5RTrIBTGTUC",
        "colab_type": "code",
        "colab": {
          "base_uri": "https://localhost:8080/",
          "height": 119
        },
        "outputId": "922af4c0-8c36-44dd-bb1a-2f83314a2797"
      },
      "source": [
        ""
      ],
      "execution_count": 7,
      "outputs": [
        {
          "output_type": "execute_result",
          "data": {
            "text/plain": [
              "array([ 0,  1,  2,  3,  4,  5,  6,  7,  8,  9, 10, 11, 12, 13, 14, 15, 16,\n",
              "       17, 18, 19, 20, 21, 22, 23, 24, 25, 26, 27, 28, 29, 30, 31, 32, 33,\n",
              "       34, 35, 36, 37, 38, 39, 40, 41, 42, 43, 44, 45, 46, 47, 48, 49, 50,\n",
              "       51, 52, 53, 54, 55, 56, 57, 58, 59, 60, 61, 62, 63, 64, 65, 66, 67,\n",
              "       68, 69, 70, 71, 72, 73, 74, 75, 76, 77, 78, 79, 80, 81, 82, 83, 84,\n",
              "       85, 86, 87, 88, 89])"
            ]
          },
          "metadata": {
            "tags": []
          },
          "execution_count": 7
        }
      ]
    },
    {
      "cell_type": "code",
      "metadata": {
        "id": "bcno_e5xI1zh",
        "colab_type": "code",
        "colab": {}
      },
      "source": [
        "\n",
        "# @numba.jit(nopython=True, parallel=True)\n",
        "def create_val_arr(K,I ,node=100,patient=0):\n",
        "#     k=0\n",
        "    dist1_fe0 = []\n",
        "    dist1_fe1= []\n",
        "    a = np.arange(90)\n",
        "    \n",
        "    for i in a:#a:\n",
        "        par5 = load_parameters_v(patient=patient)\n",
        "        par5['I'] = I\n",
        "        par5['K'] = K\n",
        "        ts, xs5, ys, _,_ = timeIntegrationRK4(par5, randomseed=43,step=False, m=i,x=xs12[:,29999],y=ys12[:,29999]) #initialization with low input\n",
        "        dist1_fe0.append(xs5)\n",
        "        ts, xs6, ys, _,_ = timeIntegrationRK4(par5, randomseed=43,step=False, m=i,fe=True,x=xs12[:,29999],y=ys12[:,29999]) #initialization with low input\n",
        "        dist1_fe1.append(xs6)\n",
        "\n",
        "\n",
        "    #     if(k==89):\n",
        "    #       break\n",
        "    #     else:\n",
        "    #       k+=1\n",
        "        if(i ==node):\n",
        "          plotSpikeTrain(xs5, par5)\n",
        "          plotSpikeTrain(xs6, par5)\n",
        "    return(dist1_fe0,dist1_fe1)"
      ],
      "execution_count": 0,
      "outputs": []
    },
    {
      "cell_type": "code",
      "metadata": {
        "id": "PG5mZ52DGCkO",
        "colab_type": "code",
        "colab": {}
      },
      "source": [
        "# K = [0.7,0.55,0.51,0.56,0.53,0.56,0.61,0.49,0.56,0.53]\n",
        "# # for i in range(len(K)):\n",
        "# #   print(i)\n",
        "# ener,func = create_val_dict(K=K[0],I=0.36,patient=1)\n",
        "# patient1= (ener,func)\n",
        "# with open('drive/variables.pickle', 'w') as f:\n",
        "#   pickle.dump(patient1, f)"
      ],
      "execution_count": 0,
      "outputs": []
    },
    {
      "cell_type": "code",
      "metadata": {
        "id": "VIFj4vzUHFya",
        "colab_type": "code",
        "colab": {}
      },
      "source": [
        "# with open('drive/variables.pickle', 'r') as f:\n",
        "#   patient1 = pickle.load(f)\n",
        "\n",
        "# patient1"
      ],
      "execution_count": 0,
      "outputs": []
    },
    {
      "cell_type": "code",
      "metadata": {
        "id": "BJbRcy4nnchk",
        "colab_type": "code",
        "colab": {}
      },
      "source": [
        "# ener,func=create_val_dict(K=0.55,I=0.36,patient=2)\n",
        "# %store ener >>a.txt\n",
        "\n",
        "# len(patient_list_fe0)\n",
        "# dict0,dict1=create_val_dict(K=0.6,I=0.36,patient=1)\n",
        "# plotSpikeTrain(dict0, par5)\n",
        "# dict0"
      ],
      "execution_count": 0,
      "outputs": []
    },
    {
      "cell_type": "code",
      "metadata": {
        "id": "mYhyI9vQvlFm",
        "colab_type": "code",
        "colab": {}
      },
      "source": [
        "# max_val = np.argmax(xs5[22])\n",
        "# min_val = np.argmin(xs5[22])\n",
        "# m=[]\n",
        "# count =0\n",
        "# for i in xs5[22]:\n",
        "  \n",
        "#   if (i <max_val):\n",
        "#     m.append((count,i))\n",
        "#   count+=1\n",
        "# max_val,min_val"
      ],
      "execution_count": 0,
      "outputs": []
    },
    {
      "cell_type": "markdown",
      "metadata": {
        "id": "8s6UbWS_6mVj",
        "colab_type": "text"
      },
      "source": [
        "**As suggested, energy of the signal is calcuated by summing the squared values over time. Then the absolute value of the difference between the L2 distance over the energy vector before and after simulation is calculated.**\n",
        "\n",
        "\n"
      ]
    },
    {
      "cell_type": "code",
      "metadata": {
        "id": "pCGu_KjJMbbS",
        "colab_type": "code",
        "colab": {}
      },
      "source": [
        "ener,vals = create_val_arr(0.6,0.36,patient=0)\n"
      ],
      "execution_count": 0,
      "outputs": []
    },
    {
      "cell_type": "code",
      "metadata": {
        "id": "pewsp2YFMLYD",
        "colab_type": "code",
        "outputId": "945e8e6a-fcfe-4f9b-c86c-7db85b6bf92f",
        "colab": {
          "base_uri": "https://localhost:8080/",
          "height": 34
        }
      },
      "source": [
        "ener"
      ],
      "execution_count": 0,
      "outputs": [
        {
          "output_type": "execute_result",
          "data": {
            "text/plain": [
              "array([], dtype=float64)"
            ]
          },
          "metadata": {
            "tags": []
          },
          "execution_count": 44
        }
      ]
    },
    {
      "cell_type": "code",
      "metadata": {
        "id": "_SAEm4HVDeb_",
        "colab_type": "code",
        "colab": {}
      },
      "source": [
        "# from numba import njit\n",
        "e_dict = []\n",
        "f_dict = []\n",
        "# @njit\n",
        "@numba.jit(nopython=True, parallel=True)\n",
        "\n",
        "def arr_for_patient():\n",
        "  val = np.array([])\n",
        "  for i in range(10):\n",
        "    print(i)\n",
        "    e_dict,fe_dict = create_val_arr(0.6,0.36,patient=i+1)\n",
        "    np.append(val,np.array([e_dict,fe_dict]))\n",
        "    return(val)\n"
      ],
      "execution_count": 0,
      "outputs": []
    },
    {
      "cell_type": "code",
      "metadata": {
        "id": "5rHHqkb6Ggr-",
        "colab_type": "code",
        "colab": {
          "base_uri": "https://localhost:8080/",
          "height": 921
        },
        "outputId": "39d98078-5e6f-4c6a-966b-71eb985f3152"
      },
      "source": [
        "arr_for_patient()"
      ],
      "execution_count": 24,
      "outputs": [
        {
          "output_type": "error",
          "ename": "TypingError",
          "evalue": "ignored",
          "traceback": [
            "\u001b[0;31m---------------------------------------------------------------------------\u001b[0m",
            "\u001b[0;31mTypingError\u001b[0m                               Traceback (most recent call last)",
            "\u001b[0;32m<ipython-input-24-4dde969a825b>\u001b[0m in \u001b[0;36m<module>\u001b[0;34m()\u001b[0m\n\u001b[0;32m----> 1\u001b[0;31m \u001b[0marr_for_patient\u001b[0m\u001b[0;34m(\u001b[0m\u001b[0;34m)\u001b[0m\u001b[0;34m\u001b[0m\u001b[0;34m\u001b[0m\u001b[0m\n\u001b[0m",
            "\u001b[0;32m/usr/local/lib/python3.6/dist-packages/numba/dispatcher.py\u001b[0m in \u001b[0;36m_compile_for_args\u001b[0;34m(self, *args, **kws)\u001b[0m\n\u001b[1;32m    346\u001b[0m                 \u001b[0me\u001b[0m\u001b[0;34m.\u001b[0m\u001b[0mpatch_message\u001b[0m\u001b[0;34m(\u001b[0m\u001b[0mmsg\u001b[0m\u001b[0;34m)\u001b[0m\u001b[0;34m\u001b[0m\u001b[0;34m\u001b[0m\u001b[0m\n\u001b[1;32m    347\u001b[0m \u001b[0;34m\u001b[0m\u001b[0m\n\u001b[0;32m--> 348\u001b[0;31m             \u001b[0merror_rewrite\u001b[0m\u001b[0;34m(\u001b[0m\u001b[0me\u001b[0m\u001b[0;34m,\u001b[0m \u001b[0;34m'typing'\u001b[0m\u001b[0;34m)\u001b[0m\u001b[0;34m\u001b[0m\u001b[0;34m\u001b[0m\u001b[0m\n\u001b[0m\u001b[1;32m    349\u001b[0m         \u001b[0;32mexcept\u001b[0m \u001b[0merrors\u001b[0m\u001b[0;34m.\u001b[0m\u001b[0mUnsupportedError\u001b[0m \u001b[0;32mas\u001b[0m \u001b[0me\u001b[0m\u001b[0;34m:\u001b[0m\u001b[0;34m\u001b[0m\u001b[0;34m\u001b[0m\u001b[0m\n\u001b[1;32m    350\u001b[0m             \u001b[0;31m# Something unsupported is present in the user code, add help info\u001b[0m\u001b[0;34m\u001b[0m\u001b[0;34m\u001b[0m\u001b[0;34m\u001b[0m\u001b[0m\n",
            "\u001b[0;32m/usr/local/lib/python3.6/dist-packages/numba/dispatcher.py\u001b[0m in \u001b[0;36merror_rewrite\u001b[0;34m(e, issue_type)\u001b[0m\n\u001b[1;32m    313\u001b[0m                 \u001b[0;32mraise\u001b[0m \u001b[0me\u001b[0m\u001b[0;34m\u001b[0m\u001b[0;34m\u001b[0m\u001b[0m\n\u001b[1;32m    314\u001b[0m             \u001b[0;32melse\u001b[0m\u001b[0;34m:\u001b[0m\u001b[0;34m\u001b[0m\u001b[0;34m\u001b[0m\u001b[0m\n\u001b[0;32m--> 315\u001b[0;31m                 \u001b[0mreraise\u001b[0m\u001b[0;34m(\u001b[0m\u001b[0mtype\u001b[0m\u001b[0;34m(\u001b[0m\u001b[0me\u001b[0m\u001b[0;34m)\u001b[0m\u001b[0;34m,\u001b[0m \u001b[0me\u001b[0m\u001b[0;34m,\u001b[0m \u001b[0;32mNone\u001b[0m\u001b[0;34m)\u001b[0m\u001b[0;34m\u001b[0m\u001b[0;34m\u001b[0m\u001b[0m\n\u001b[0m\u001b[1;32m    316\u001b[0m \u001b[0;34m\u001b[0m\u001b[0m\n\u001b[1;32m    317\u001b[0m         \u001b[0margtypes\u001b[0m \u001b[0;34m=\u001b[0m \u001b[0;34m[\u001b[0m\u001b[0;34m]\u001b[0m\u001b[0;34m\u001b[0m\u001b[0;34m\u001b[0m\u001b[0m\n",
            "\u001b[0;32m/usr/local/lib/python3.6/dist-packages/numba/six.py\u001b[0m in \u001b[0;36mreraise\u001b[0;34m(tp, value, tb)\u001b[0m\n\u001b[1;32m    656\u001b[0m             \u001b[0mvalue\u001b[0m \u001b[0;34m=\u001b[0m \u001b[0mtp\u001b[0m\u001b[0;34m(\u001b[0m\u001b[0;34m)\u001b[0m\u001b[0;34m\u001b[0m\u001b[0;34m\u001b[0m\u001b[0m\n\u001b[1;32m    657\u001b[0m         \u001b[0;32mif\u001b[0m \u001b[0mvalue\u001b[0m\u001b[0;34m.\u001b[0m\u001b[0m__traceback__\u001b[0m \u001b[0;32mis\u001b[0m \u001b[0;32mnot\u001b[0m \u001b[0mtb\u001b[0m\u001b[0;34m:\u001b[0m\u001b[0;34m\u001b[0m\u001b[0;34m\u001b[0m\u001b[0m\n\u001b[0;32m--> 658\u001b[0;31m             \u001b[0;32mraise\u001b[0m \u001b[0mvalue\u001b[0m\u001b[0;34m.\u001b[0m\u001b[0mwith_traceback\u001b[0m\u001b[0;34m(\u001b[0m\u001b[0mtb\u001b[0m\u001b[0;34m)\u001b[0m\u001b[0;34m\u001b[0m\u001b[0;34m\u001b[0m\u001b[0m\n\u001b[0m\u001b[1;32m    659\u001b[0m         \u001b[0;32mraise\u001b[0m \u001b[0mvalue\u001b[0m\u001b[0;34m\u001b[0m\u001b[0;34m\u001b[0m\u001b[0m\n\u001b[1;32m    660\u001b[0m \u001b[0;34m\u001b[0m\u001b[0m\n",
            "\u001b[0;31mTypingError\u001b[0m: Failed in nopython mode pipeline (step: nopython frontend)\nFailed in nopython mode pipeline (step: nopython frontend)\nUntyped global name 'timeIntegrationRK4': cannot determine Numba type of <class 'function'>\n\nFile \"<ipython-input-8-6ea931e83c84>\", line 13:\ndef create_val_arr(K,I ,node=100,patient=0):\n    <source elided>\n        par5['K'] = K\n        ts, xs5, ys, _,_ = timeIntegrationRK4(par5, randomseed=43,step=False, m=i,x=xs12[:,29999],y=ys12[:,29999]) #initialization with low input\n        ^\n\n[1] During: resolving callee type: type(CPUDispatcher(<function create_val_arr at 0x7fb76e135ae8>))\n[2] During: typing of call at <ipython-input-20-9294a0ed5ba3> (10)\n\n\nFile \"<ipython-input-20-9294a0ed5ba3>\", line 10:\ndef arr_for_patient():\n    <source elided>\n    print(i)\n    e_dict,fe_dict = create_val_arr(0.6,0.36,patient=i+1)\n    ^\n\nThis is not usually a problem with Numba itself but instead often caused by\nthe use of unsupported features or an issue in resolving types.\n\nTo see Python/NumPy features supported by the latest release of Numba visit:\nhttp://numba.pydata.org/numba-doc/dev/reference/pysupported.html\nand\nhttp://numba.pydata.org/numba-doc/dev/reference/numpysupported.html\n\nFor more information about typing errors and how to debug them visit:\nhttp://numba.pydata.org/numba-doc/latest/user/troubleshoot.html#my-code-doesn-t-compile\n\nIf you think your code should work with Numba, please report the error message\nand traceback, along with a minimal reproducer at:\nhttps://github.com/numba/numba/issues/new\n"
          ]
        }
      ]
    },
    {
      "cell_type": "markdown",
      "metadata": {
        "id": "Y0PvH4OPAac6",
        "colab_type": "text"
      },
      "source": [
        "# Energy calculation"
      ]
    },
    {
      "cell_type": "code",
      "metadata": {
        "id": "jhqFx1c9oZWf",
        "colab_type": "code",
        "colab": {
          "base_uri": "https://localhost:8080/",
          "height": 353
        },
        "outputId": "c6248619-73d6-491e-b78c-f34511e5a5b2"
      },
      "source": [
        "#Energy calculation\n",
        "# summ=[]\n",
        "# energy_input = []\n",
        "# time = 1/(ts[-1]-ts[4999])\n",
        "# dict_val={}\n",
        "# # print((dist1_fe0.keys()))\n",
        "# for i in dist1_fe0.keys():\n",
        "#   #sum of the energy for the signal is taken () __Negative correlation in this case\n",
        "#   ##summ.append(np.absolute(np.linalg.norm(np.sum(dist1_fe0[i][:,5000:]**2,axis=1))- np.linalg.norm(np.sum(dist0[:,5000:]**2,axis=1)))) \n",
        "  \n",
        "#   #summ.append((np.linalg.norm(np.sum(dist1_fe0[i][:,5000:]**2,axis=1)*time,ord=1) - np.linalg.norm(np.sum(dist0[:,5000:]**2,axis=1)*time,ord=1))) #sum of the energy for the signal is taken ()\n",
        "#   summ.append(np.absolute(np.linalg.norm(np.sum(dist1_fe0[i][:,5000:]**2,axis=1)*time,ord=1)))#- np.linalg.norm(np.sum(dist0[:,5000:]**2,axis=1)*time,ord=1))) #sum of the energy for the signal is taken ()\n",
        "#   energy_input.append(np.absolute(np.sum(dist1_fe0[i][i,5000:]**2)*time ))\n",
        "#   #summ.append(np.sum(dist1_fe0[i][:,5000:]**2)*time)\n",
        "\n",
        "  \n",
        "\n",
        "def energy(dictionary):\n",
        "  summ=[]\n",
        "  energy_input = []\n",
        "  time = 1/(ts[-1]-ts[4999])\n",
        "  dict_val={}\n",
        "  # print((dist1_fe0.keys()))\n",
        "  for i in dictionary.keys():\n",
        "    #sum of the energy for the signal is taken () __Negative correlation in this case\n",
        "    ##summ.append(np.absolute(np.linalg.norm(np.sum(dist1_fe0[i][:,5000:]**2,axis=1))- np.linalg.norm(np.sum(dist0[:,5000:]**2,axis=1)))) \n",
        "\n",
        "    #summ.append((np.linalg.norm(np.sum(dist1_fe0[i][:,5000:]**2,axis=1)*time,ord=1) - np.linalg.norm(np.sum(dist0[:,5000:]**2,axis=1)*time,ord=1))) #sum of the energy for the signal is taken ()\n",
        "    summ.append(np.absolute(np.linalg.norm(np.sum(dictionary[i][:,5000:]**2,axis=1)*time,ord=1)))#- np.linalg.norm(np.sum(dist0[:,5000:]**2,axis=1)*time,ord=1))) #sum of the energy for the signal is taken ()\n",
        "    energy_input.append(np.absolute(np.sum(dictionary[i][i,5000:]**2)*time ))\n",
        "  return(summ)\n",
        "energy_value = energy(ener)\n",
        "    #summ.append(np.sum(dist1_fe0[i][:,5000:]**2)*time)"
      ],
      "execution_count": 43,
      "outputs": [
        {
          "output_type": "error",
          "ename": "TypeError",
          "evalue": "ignored",
          "traceback": [
            "\u001b[0;31m---------------------------------------------------------------------------\u001b[0m",
            "\u001b[0;31mTypeError\u001b[0m                                 Traceback (most recent call last)",
            "\u001b[0;32m<ipython-input-43-ae626769fb3e>\u001b[0m in \u001b[0;36m<module>\u001b[0;34m()\u001b[0m\n\u001b[1;32m     16\u001b[0m     \u001b[0menergy_input\u001b[0m\u001b[0;34m.\u001b[0m\u001b[0mappend\u001b[0m\u001b[0;34m(\u001b[0m\u001b[0mnp\u001b[0m\u001b[0;34m.\u001b[0m\u001b[0mabsolute\u001b[0m\u001b[0;34m(\u001b[0m\u001b[0mnp\u001b[0m\u001b[0;34m.\u001b[0m\u001b[0msum\u001b[0m\u001b[0;34m(\u001b[0m\u001b[0mdictionary\u001b[0m\u001b[0;34m[\u001b[0m\u001b[0mi\u001b[0m\u001b[0;34m]\u001b[0m\u001b[0;34m[\u001b[0m\u001b[0mi\u001b[0m\u001b[0;34m,\u001b[0m\u001b[0;36m5000\u001b[0m\u001b[0;34m:\u001b[0m\u001b[0;34m]\u001b[0m\u001b[0;34m**\u001b[0m\u001b[0;36m2\u001b[0m\u001b[0;34m)\u001b[0m\u001b[0;34m*\u001b[0m\u001b[0mtime\u001b[0m \u001b[0;34m)\u001b[0m\u001b[0;34m)\u001b[0m\u001b[0;34m\u001b[0m\u001b[0;34m\u001b[0m\u001b[0m\n\u001b[1;32m     17\u001b[0m   \u001b[0;32mreturn\u001b[0m\u001b[0;34m(\u001b[0m\u001b[0msumm\u001b[0m\u001b[0;34m)\u001b[0m\u001b[0;34m\u001b[0m\u001b[0;34m\u001b[0m\u001b[0m\n\u001b[0;32m---> 18\u001b[0;31m \u001b[0menergy_value\u001b[0m \u001b[0;34m=\u001b[0m \u001b[0menergy\u001b[0m\u001b[0;34m(\u001b[0m\u001b[0mener\u001b[0m\u001b[0;34m)\u001b[0m\u001b[0;34m\u001b[0m\u001b[0;34m\u001b[0m\u001b[0m\n\u001b[0m\u001b[1;32m     19\u001b[0m     \u001b[0;31m#summ.append(np.sum(dist1_fe0[i][:,5000:]**2)*time)\u001b[0m\u001b[0;34m\u001b[0m\u001b[0;34m\u001b[0m\u001b[0;34m\u001b[0m\u001b[0m\n",
            "\u001b[0;32m<ipython-input-43-ae626769fb3e>\u001b[0m in \u001b[0;36menergy\u001b[0;34m(dictionary)\u001b[0m\n\u001b[1;32m      8\u001b[0m   \u001b[0mdict_val\u001b[0m\u001b[0;34m=\u001b[0m\u001b[0;34m{\u001b[0m\u001b[0;34m}\u001b[0m\u001b[0;34m\u001b[0m\u001b[0;34m\u001b[0m\u001b[0m\n\u001b[1;32m      9\u001b[0m   \u001b[0;31m# print((dist1_fe0.keys()))\u001b[0m\u001b[0;34m\u001b[0m\u001b[0;34m\u001b[0m\u001b[0;34m\u001b[0m\u001b[0m\n\u001b[0;32m---> 10\u001b[0;31m   \u001b[0;32mfor\u001b[0m \u001b[0mi\u001b[0m \u001b[0;32min\u001b[0m \u001b[0mrange\u001b[0m\u001b[0;34m(\u001b[0m\u001b[0mlen\u001b[0m\u001b[0;34m(\u001b[0m\u001b[0mdictionary\u001b[0m\u001b[0;34m)\u001b[0m\u001b[0;34m)\u001b[0m\u001b[0;34m(\u001b[0m\u001b[0;34m)\u001b[0m\u001b[0;34m:\u001b[0m\u001b[0;34m\u001b[0m\u001b[0;34m\u001b[0m\u001b[0m\n\u001b[0m\u001b[1;32m     11\u001b[0m     \u001b[0;31m#sum of the energy for the signal is taken () __Negative correlation in this case\u001b[0m\u001b[0;34m\u001b[0m\u001b[0;34m\u001b[0m\u001b[0;34m\u001b[0m\u001b[0m\n\u001b[1;32m     12\u001b[0m     \u001b[0;31m##summ.append(np.absolute(np.linalg.norm(np.sum(dist1_fe0[i][:,5000:]**2,axis=1))- np.linalg.norm(np.sum(dist0[:,5000:]**2,axis=1))))\u001b[0m\u001b[0;34m\u001b[0m\u001b[0;34m\u001b[0m\u001b[0;34m\u001b[0m\u001b[0m\n",
            "\u001b[0;31mTypeError\u001b[0m: 'range' object is not callable"
          ]
        }
      ]
    },
    {
      "cell_type": "code",
      "metadata": {
        "id": "FQ1PY8SaJXd-",
        "colab_type": "code",
        "colab": {}
      },
      "source": [
        "\n",
        "def energy(dictionary):\n",
        "  summ=[]\n",
        "  energy_input = []\n",
        "  time = 1/(ts[-1]-ts[4999])\n",
        "  dict_val={}\n",
        "  # print((dist1_fe0.keys()))\n",
        "  for i in dictionary.shape():\n",
        "    #sum of the energy for the signal is taken () __Negative correlation in this case\n",
        "    ##summ.append(np.absolute(np.linalg.norm(np.sum(dist1_fe0[i][:,5000:]**2,axis=1))- np.linalg.norm(np.sum(dist0[:,5000:]**2,axis=1)))) \n",
        "\n",
        "    #summ.append((np.linalg.norm(np.sum(dist1_fe0[i][:,5000:]**2,axis=1)*time,ord=1) - np.linalg.norm(np.sum(dist0[:,5000:]**2,axis=1)*time,ord=1))) #sum of the energy for the signal is taken ()\n",
        "    summ.append(np.absolute(np.linalg.norm(np.sum(dictionary[i][:,5000:]**2,axis=1)*time,ord=1)))#- np.linalg.norm(np.sum(dist0[:,5000:]**2,axis=1)*time,ord=1))) #sum of the energy for the signal is taken ()\n",
        "    energy_input.append(np.absolute(np.sum(dictionary[i][i,5000:]**2)*time ))\n",
        "  return(summ)\n"
      ],
      "execution_count": 0,
      "outputs": []
    },
    {
      "cell_type": "markdown",
      "metadata": {
        "id": "vgUBtKk8zTQD",
        "colab_type": "text"
      },
      "source": [
        "# Functional Effect \n",
        "For each  node = mean(absolute(corrMatrix_before_stimulation - corrMatrix_after_stimulation ))"
      ]
    },
    {
      "cell_type": "code",
      "metadata": {
        "id": "oR3uTRW5yjSm",
        "colab_type": "code",
        "colab": {}
      },
      "source": [
        "def functional_eff(xs):\n",
        "  diff = 0\n",
        "  d_val = []\n",
        "  for i in xs.keys():\n",
        "    diff = np.linalg.norm(np.absolute(np.corrcoef(xs[i][:,5000:14999]) - np.corrcoef(xs[i][:,16000:])))\n",
        "    d_val.append(diff)\n",
        "    \n",
        "  return np.array(d_val) \n",
        "f_eff=functional_eff(dist1_fe1)\n"
      ],
      "execution_count": 0,
      "outputs": []
    },
    {
      "cell_type": "code",
      "metadata": {
        "id": "0oBa2w36M4dF",
        "colab_type": "code",
        "colab": {}
      },
      "source": [
        "SCs90 = np.load('HCP10_SCs_aal90_EVnorm.npy')\n",
        "a_ = np.mean(SCs90,axis=0)\n",
        "a = np.mean(np.mean(SCs90,axis=0),axis=0)\n",
        "l2Dist= pd.Series(data=energy_value)\n",
        "F_eff = pd.Series(data=f_eff)\n",
        "degree = pd.Series(data=a)\n",
        "d = {'Degree':degree,'Energy(Over T)':l2Dist}\n",
        "dwf = {'Degree':a,'Functional Effect':F_eff}\n",
        "dwf0 = {'Energy(Over T)':l2Dist,'Functional Effect':F_eff}\n",
        "df1 = pd.DataFrame(data=d)\n",
        "df2 = pd.DataFrame(data=dwf)\n",
        "df3 = pd.DataFrame(data=dwf0)\n",
        "#+print(df)\n",
        "\n",
        "\n",
        "df1.plot(kind='scatter',x='Degree',y='Energy(Over T)')\n",
        "df2.plot(kind='scatter',x='Degree',y='Functional Effect')\n",
        "df3.plot(kind='scatter',x='Energy(Over T)',y='Functional Effect')\n",
        "plt.show()\n"
      ],
      "execution_count": 0,
      "outputs": []
    },
    {
      "cell_type": "code",
      "metadata": {
        "id": "ndWQGP8vbKTa",
        "colab_type": "code",
        "colab": {}
      },
      "source": [
        "#print(df1.values)\n",
        "from scipy import stats\n",
        "print(\"Pearson-Correlattion r & P values for Degree V.Energy(Over T) \",stats.pearsonr(x=df1['Degree'],y=df1['Energy(Over T)']))\n",
        "print(\"Pearson-Correlattion r & P values for Degree V. Functional Effect\" ,stats.pearsonr(x=df2['Degree'],y=df2['Functional Effect']))\n",
        "print(\"Pearson-Correlattion r & P values for Energy(Over T) V. Functional Effect \",stats.pearsonr(x=df3['Energy(Over T)'],y=df3['Functional Effect']))"
      ],
      "execution_count": 0,
      "outputs": []
    },
    {
      "cell_type": "code",
      "metadata": {
        "id": "5r-J4EXt-XAw",
        "colab_type": "code",
        "colab": {}
      },
      "source": [
        "\"\"\"\n",
        "Step input to the integration \n",
        "\n",
        "Trying closer to bifurcation point \n",
        "\n",
        "Correlation v. Current study (study the sensitivity)\n",
        "\n",
        "Effect of different nodes \n",
        "\n",
        "Find the peak of the oscillation \n",
        "\n",
        "Finding the parameter configuration for firing. \n",
        "I =[0.73, 0.65, 0.6,0.52,0.47,0.41,0.36,0.32,0.27,0.24]\n",
        "K =[0.1, 0.2, 0.3, 0.4, 0.5, 0.6, 0.7, 0.8, 0.9]\n",
        "\n",
        "Identify the nodes \n",
        "\n",
        "Distance between the matrices\n",
        "\n",
        "Identify the steps before and after the bifurcation \n",
        "Degree is defined as the average weight of edges emanating from that region. \n",
        "\n",
        "\n",
        "We assess the pairwise change in functional brain states by subtracting the correlation values obtained in the stimulation-free time window before the stimulation is applied from the correlation values obtained in the time window during the stimulation. \n",
        "We then measure the average change in functional brain states, termed the functional effect, as the absolute value of this difference averaged over all region pairs. \n",
        "The greater the deviation of the functional effect from zero, the greater the effect of stimulation on brain state reconfiguration.\n",
        "\"\"\"\n",
        "\n",
        "\n",
        "\n",
        "\"\"\"L2 Distance - Average\n",
        "Take Energy (squared values)for each node \n",
        "Look into large limit cycle\n",
        "\"\"\"\n",
        "\n",
        "'''\n",
        "Ideas - Input signal mean energy over time \n",
        "Show how the network dynamics change when a control is added for high degree, medium and low degree \n",
        "\n",
        "\n",
        "\n",
        "Use the adjacency matrix for the weights in the \n",
        "shortest path and loop over all the starting and the target nodes\n",
        "\n",
        "\n",
        "Use pseudo inverse (Done) \n",
        "\n",
        "Functional effect and energy correlation with the measurement correlations matrix (Done)\n",
        "\n",
        "\n",
        "Variance of the measures/correlations between subjects in the correlation matrix \n",
        "\n",
        "Box plot for variability \n",
        "\n",
        "\n",
        "\n",
        "\n",
        "\n",
        "Eigen values changes with the exclusion of of nodes \n",
        "\n",
        "\n",
        "\n",
        "\n",
        "p 1    2    3    4    5    6    7    8    9    10\n",
        "K 0.7  0.55 0.51 0.56 0.53 0.56 0.61 0.49 0.56 0.53\n",
        "'''"
      ],
      "execution_count": 0,
      "outputs": []
    },
    {
      "cell_type": "code",
      "metadata": {
        "id": "ucNpFeQ3-vIv",
        "colab_type": "code",
        "colab": {}
      },
      "source": [
        "np.argmax(np.mean(SCs90[1],axis=1))\n",
        "np.argsort(np.mean(SCs90[1],axis=1),kind='quicksort')"
      ],
      "execution_count": 0,
      "outputs": []
    },
    {
      "cell_type": "code",
      "metadata": {
        "id": "vY2sLV_zKzoP",
        "colab_type": "code",
        "colab": {}
      },
      "source": [
        "\n",
        "#Node Energy\n",
        "fig = plt.figure()\n",
        "ax = plt.axes()\n",
        "\n",
        "x = np.linspace(0, 10, 1000)\n",
        "ax.plot( np.arange(0,90),energy_value)\n",
        "plt.xlabel('Node')\n",
        "plt.ylabel('Energy')\n",
        "plt.show()"
      ],
      "execution_count": 0,
      "outputs": []
    },
    {
      "cell_type": "code",
      "metadata": {
        "id": "H99HVR4Fn_DM",
        "colab_type": "code",
        "colab": {}
      },
      "source": [
        "plotSpikeTrain(vals[22],par5) #High\n",
        "plotSpikeTrain(vals[0],par5)   #Medium\n",
        "plotSpikeTrain(vals[78],par5)  #Low"
      ],
      "execution_count": 0,
      "outputs": []
    },
    {
      "cell_type": "markdown",
      "metadata": {
        "id": "1q-DEO9D9_br",
        "colab_type": "text"
      },
      "source": [
        "# Network Parameters"
      ]
    },
    {
      "cell_type": "code",
      "metadata": {
        "id": "AU0sOZ4mTccg",
        "colab_type": "code",
        "colab": {}
      },
      "source": [
        "import seaborn as sns; sns.set()\n",
        "uniform_data = np.random.rand(10, 12)\n",
        "#ax = sns.heatmap(degree)\n",
        "\n",
        "l = np.copy(a_)\n",
        "ax = sns.heatmap(a_)\n",
        "plt.show()\n",
        "\n",
        "temp1 = []\n",
        "temp2 = []\n",
        "temp3 = []\n",
        "temp4 = []\n",
        "\n",
        "for i in range(90):\n",
        "  if(i%2==0):\n",
        "    temp1.append(l[i])\n",
        "  else:\n",
        "    temp2.append(l[i])\n",
        "\n",
        "glf = np.concatenate((np.array(temp1),np.array(temp2)))\n",
        "a = glf.T\n",
        "for i in range(90):\n",
        "\n",
        "  if(i%2==0):\n",
        "    temp3.append(a[i])\n",
        "  else:\n",
        "    temp4.append(a[i])\n",
        "    \n",
        "final = np.concatenate((np.array(temp3),np.array(temp4)))\n",
        "final.shape\n",
        "ax = sns.heatmap(final)\n",
        "\n",
        "plt.show()"
      ],
      "execution_count": 0,
      "outputs": []
    },
    {
      "cell_type": "code",
      "metadata": {
        "id": "UD8Jf8h-ptTR",
        "colab_type": "code",
        "colab": {}
      },
      "source": [
        "l = np.copy(SCs90[0])\n",
        "ax = sns.heatmap(SCs90[0])\n",
        "plt.show()\n",
        "\n",
        "temp1 = []\n",
        "temp2 = []\n",
        "temp3 = []\n",
        "temp4 = []\n",
        "\n",
        "for i in range(90):\n",
        "  if(i%2==0):\n",
        "    temp1.append(l[i])\n",
        "  else:\n",
        "    temp2.append(l[i])\n",
        "\n",
        "glf = np.concatenate((np.array(temp1),np.array(temp2)))\n",
        "a = glf.T\n",
        "for i in range(90):\n",
        "\n",
        "  if(i%2==0):\n",
        "    temp3.append(a[i])\n",
        "  else:\n",
        "    temp4.append(a[i])\n",
        "    \n",
        "final = np.concatenate((np.array(temp3),np.array(temp4)))\n",
        "final.shape\n",
        "ax = sns.heatmap(final)\n",
        "\n",
        "plt.show()"
      ],
      "execution_count": 0,
      "outputs": []
    },
    {
      "cell_type": "markdown",
      "metadata": {
        "id": "dD9SG0LcqEOY",
        "colab_type": "text"
      },
      "source": [
        ""
      ]
    },
    {
      "cell_type": "code",
      "metadata": {
        "id": "IPnB9S07qAhN",
        "colab_type": "code",
        "colab": {}
      },
      "source": [
        "sns.heatmap(a_)\n",
        "\n"
      ],
      "execution_count": 0,
      "outputs": []
    },
    {
      "cell_type": "markdown",
      "metadata": {
        "id": "9fI79CQhS1zh",
        "colab_type": "text"
      },
      "source": [
        "#Modal Controllability"
      ]
    },
    {
      "cell_type": "code",
      "metadata": {
        "id": "JCmaSSUx4pB6",
        "colab_type": "code",
        "colab": {}
      },
      "source": [
        "import scipy as sc\n",
        "def modal_control(v):\n",
        "  A = v/(1+sc.sparse.linalg.svds(v,1)[1])\n",
        "  U,T = sc.linalg.schur(A,output='real')\n",
        "  eigVals = np.diag(U)\n",
        "  v = np.diag(eigVals)\n",
        "\n",
        "\n",
        "  #  sns.heatmap(A)\n",
        "  # sns.heatmap(a_)\n",
        "\n",
        "  phi = []\n",
        "\n",
        "  for i in range(A.shape[1]):\n",
        "    phi.append(np.sum(np.square(v)-np.matmul(np.square(T[i][:]),np.square(v))))\n",
        "  return(phi)\n",
        "# phi = np.mean(phi,axis=0)\n",
        "\n",
        "\n",
        "fig = plt.figure()\n",
        "ax = plt.axes()\n",
        "\n",
        "x = np.linspace(0, 10, 1000)\n",
        "ax.plot( np.arange(0,90),modal_control(a_))\n",
        "plt.xlabel('Nodes')\n",
        "plt.ylabel('Modal controllability')\n",
        "plt.show()\n",
        "\n",
        "\n",
        "\n",
        "# return phi_p\n",
        "# mode = modal_control(a_)\n",
        "# mode_subj=modal_control(SCs90[1])\n",
        "\n",
        "\n",
        "\n",
        "\n",
        "# phi[i] += (np.square(U[i][:]))*(1-np.square(eigVals))\n",
        "# sc.sparse.linalg.svds(a_,1)\n",
        "# eig_v = np.linalg.eigvals(a_)\n",
        "# A = a_/(1+np.max(eig_v))\n",
        "# v = A\n",
        "# eig= np.linalg.eig(v)[1]\n",
        "# modes = sc.stats.mode(SCs90[1])\n",
        "# modes\n",
        "\n",
        "# # eig[1][1]\n",
        "# temp = np.mean(modes,axis=1)\n",
        "# phi = []\n",
        "# phi_temp=0\n",
        "# for i in range(modes.size):\n",
        "#   for j in range(modes.size):\n",
        "#     phi_temp += (1-modes[i][j]**2)*(eig[i][j]**2)\n",
        "#   phi.append(phi_temp)\n",
        "#   phi_temp=0\n",
        "# phi_p=np.linalg.norm(phi)"
      ],
      "execution_count": 0,
      "outputs": []
    },
    {
      "cell_type": "code",
      "metadata": {
        "id": "GpExb8uuMGJD",
        "colab_type": "code",
        "colab": {}
      },
      "source": [
        "sns.heatmap(a_)\n"
      ],
      "execution_count": 0,
      "outputs": []
    },
    {
      "cell_type": "markdown",
      "metadata": {
        "id": "OGnN9IzB0A4_",
        "colab_type": "text"
      },
      "source": [
        "#Average Controllability "
      ]
    },
    {
      "cell_type": "code",
      "metadata": {
        "id": "wqIT3XEAXXCH",
        "colab_type": "code",
        "cellView": "code",
        "colab": {}
      },
      "source": [
        "# from numba import jit\n",
        "\n",
        "\n",
        "# @numba.jit(locals = {'idxX': numba.int64, 'idxY':numba.int64, 'idx1':numba.int64, 'idy1':numba.int64})\n",
        "\n",
        "# def avg_controllability_pa(a_):\n",
        "#   w_k = []\n",
        "#   B_k = np.identity(90)\n",
        "#   a = 0\n",
        "#   avg_control = []\n",
        "#   for m in range(90):\n",
        "#     temp1 = np.zeros(8100).reshape(90,90)\n",
        "    \n",
        "#     for i in range(100):\n",
        "#       temp1=temp1+np.matmul((np.mat(a_**i)),np.matmul(np.matrix((B_k[m])),np.matmul(np.matrix(B_k[m].T),np.mat((a_**i)))))\n",
        "#     w_k.append(temp1)\n",
        "  \n",
        "#   for i in (w_k):\n",
        "#     avg_control.append(np.trace(np.linalg.pinv(i)))\n",
        "#   return(avg_control)\n",
        "\n",
        "from numpy import matlib\n",
        "def avg_controllability(a):\n",
        "\n",
        "  A = a_#/(1+sc.sparse.linalg.svds(a_,1)[1])\n",
        "  U,T = sc.linalg.schur(A,output='real')\n",
        "  #   midMat = np.matrix((T**2)).getH()\n",
        "  midMat = np.matrix((T**2)).T\n",
        "  v1=np.diag(U)\n",
        "\n",
        "  # v_mat = np.diag(v1)\n",
        "  # np.matmul(np.matrix(v1).T,np.matrix(v1))\n",
        "  # # np.diag(np.matrix(1- np.matmul(v1,v1.T)))\n",
        "  P =np.matlib.repeat(np.diag(1-np.matmul(np.matrix(v1).T,np.matrix(v1))),90).reshape(90,90)\n",
        "\n",
        "\n",
        "  # # midMat\n",
        "  # # v1*np.matrix(v1).T\n",
        "  # # np.matrix(v1)*np.matrix(v1).getH()\n",
        "  # # l = np.linalg.norm(np.divide(midMat,P),axis=0)\n",
        "  values = np.sum(np.divide(midMat,P),axis=0).T\n",
        "  # values\n",
        "  return(values, midMat)\n",
        "\n",
        "# fig = plt.figure()\n",
        "# ax = plt.axes()\n",
        "\n",
        "# # x = np.linspace(0, 10, 1000)\n",
        "# plt.plot( np.arange(0,90),values)\n",
        "# plt.xlabel('Nodes')\n",
        "# plt.ylabel('Average controllability')\n",
        "# plt.show()\n",
        "# A = A./(1+svds(A,1));     % Matrix normalization \n",
        "# [U, T] = schur(A,'real'); % Schur stability\n",
        "# midMat = (U.^2)';\n",
        "# v = diag(T);\n",
        "# P = repmat(diag(1 - v*v'),1,size(A,1));\n",
        "# values = sum(midMat./P)';"
      ],
      "execution_count": 0,
      "outputs": []
    },
    {
      "cell_type": "code",
      "metadata": {
        "id": "HI4RaMK9kVPx",
        "colab_type": "code",
        "colab": {}
      },
      "source": [
        "avg_control,_ = avg_controllability(a_)\n",
        "avg_control = np.array(avg_control)\n",
        "\n"
      ],
      "execution_count": 0,
      "outputs": []
    },
    {
      "cell_type": "code",
      "metadata": {
        "id": "wKou7kZz8QJe",
        "colab_type": "code",
        "colab": {}
      },
      "source": [
        "fig = plt.figure()\n",
        "ax = plt.axes()\n",
        "\n",
        "x = np.linspace(0, 10, 1000)\n",
        "ax.plot( np.arange(0,90),avg_control)\n",
        "plt.xlabel('Nodes')\n",
        "plt.ylabel('Average controllability')\n",
        "plt.show()"
      ],
      "execution_count": 0,
      "outputs": []
    },
    {
      "cell_type": "code",
      "metadata": {
        "id": "_R7atRx_DhnY",
        "colab_type": "code",
        "colab": {}
      },
      "source": [
        "# avg = avg_controllability_pa(a_)\n",
        "\n",
        "\n",
        "# fig = plt.figure()\n",
        "# ax = plt.axes()\n",
        "\n",
        "# x = np.linspace(0, 10, 1000)\n",
        "# ax.plot( np.arange(0,90),avg)\n",
        "# plt.xlabel('Nodes')\n",
        "# plt.ylabel('Average controllability')\n",
        "# plt.show()"
      ],
      "execution_count": 0,
      "outputs": []
    },
    {
      "cell_type": "code",
      "metadata": {
        "id": "ks7KsQl91XMk",
        "colab_type": "code",
        "colab": {}
      },
      "source": [
        "# shortest_path=[]\n",
        "# D = nx.from_numpy_matrix(a_)\n",
        "# degree = nx.degree(D) #\n",
        "# short =nx.shortest_path_length(D)\n",
        "# closeness=nx.centrality.closeness_centrality(D)\n",
        "# triangels=nx.triangles(D)\n",
        "# betweenness=nx.centrality.betweenness_centrality(D)\n",
        "# degree_cent=nx.centrality.degree_centrality(D)\n",
        "# clustering = nx.average_clustering(D)\n",
        "\n",
        "# d_series=pd.Series(i[1] for i in degree)\n",
        "# short_series = pd.Series(short)\n",
        "# #   for i in short_series:\n",
        "# #     print(i)\n",
        "# clos_series= pd.Series(closeness)\n",
        "# tri_ser =pd.Series(triangels)\n",
        "# b_ser = pd.Series(betweenness)\n",
        "# deg_ser=pd.Series(degree_cent)\n",
        "# avg_ser=pd.Series(avg_control.reshape(90,))\n",
        "# temp_dict = {'degree':d_series,'closeness_centrality':clos_series,'triangles':tri_ser,\n",
        "#              'betweenness_centrality':b_ser,\n",
        "#              'degree_centrality':deg_ser,'energy':l2Dist,\n",
        "#              'functional effect':F_eff,'modal_controllability':mode,'average_controllability':avg_ser}\n",
        "# df_hm = pd.DataFrame(data=temp_dict)\n",
        "# arr = np.array(df_hm.values)\n",
        "# matr = np.corrcoef(arr.T)\n",
        "# fig1, ax1 = plt.subplots()\n",
        "# ax1.set_title('Basic Plot')\n",
        "# ax1.boxplot(matr)\n"
      ],
      "execution_count": 0,
      "outputs": []
    },
    {
      "cell_type": "code",
      "metadata": {
        "id": "BkF0RJjRiVEA",
        "colab_type": "code",
        "colab": {}
      },
      "source": [
        "from networkx.algorithms import bipartite\n",
        "from scipy import sparse\n",
        "def correlation_plot_bw_measures(a,energy, func,mode,average):\n",
        "  shortest_path=[]\n",
        "  D = nx.from_numpy_matrix(a)\n",
        "  degree = nx.degree(D) #\n",
        "  short =nx.shortest_path_length(D)\n",
        "  closeness=nx.centrality.closeness_centrality(D)\n",
        "  triangels=nx.triangles(D)\n",
        "  betweenness=nx.centrality.betweenness_centrality(D)\n",
        "  degree_cent=nx.centrality.degree_centrality(D)\n",
        "  clustering = nx.average_clustering(D)\n",
        "\n",
        "  d_series=pd.Series(i[1] for i in degree)\n",
        "  short_series = pd.Series(short)\n",
        "#   for i in short_series:\n",
        "#     print(i)\n",
        "  clos_series= pd.Series(closeness)\n",
        "  tri_ser =pd.Series(triangels)\n",
        "  b_ser = pd.Series(betweenness)\n",
        "  deg_ser=pd.Series(degree_cent)\n",
        "  avg_ser=pd.Series(average.reshape(90,))\n",
        "  temp_dict = {'degree':d_series,'closeness_centrality':clos_series,'triangles':tri_ser,\n",
        "               'betweenness_centrality':b_ser,\n",
        "               'degree_centrality':deg_ser,'energy':energy,\n",
        "               'functional effect':func,'modal_controllability':mode,'average_controllability':avg_ser}\n",
        "  df_hm = pd.DataFrame(data=temp_dict)\n",
        "  arr = np.array(df_hm.values)\n",
        "  index = df_hm.columns.values\n",
        "\n",
        "  sA = sparse.csr_matrix(a_)\n",
        "  bp = bipartite.from_biadjacency_matrix(sA)\n",
        "  node_set_a,b = bipartite.sets(bp)\n",
        "  # b\n",
        "  # print(bipartite.density(bp,node_set_a))\n",
        "  bipartite.closeness_centrality(bp,node_set_a)\n",
        "  #bipartite.biadjacency_matrix(bp,node_set)\n",
        "  bipartite.betweenness_centrality(bp,node_set_a)\n",
        "  bipartite.closeness_centrality(bp,node_set_a)\n",
        "\n",
        "  fig = plt.figure()\n",
        "\n",
        "  matr = np.corrcoef(arr.T)\n",
        "  ax = sns.heatmap(matr)\n",
        "  fig.suptitle(\"Pearson correlations between measures\")\n",
        "  ax = sns.heatmap(matr.T,xticklabels=index,yticklabels=index)\n",
        "\n",
        "  plt.show()\n",
        "  \n",
        "  return(matr, df_hm)\n"
      ],
      "execution_count": 0,
      "outputs": []
    },
    {
      "cell_type": "code",
      "metadata": {
        "id": "oJa6RULtiaaS",
        "colab_type": "code",
        "colab": {}
      },
      "source": [
        "# correlation_plot_bw_measures(a_,l2Dist,F_eff,mode,avg_control)\n",
        "K = [0.7,0.55,0.51,0.56,0.53,0.56,0.61,0.49,0.56,0.53]\n",
        "correlations = []\n",
        "measures = []\n",
        "for i in range(10):\n",
        "  \n",
        "#   print(i)\n",
        "#   temp = create_val_dict(K=K[i],I=0.36,patient=i+1)\n",
        "  \n",
        "  l2Dist_= pd.Series(data=energy(ener))\n",
        "  F_eff_ = pd.Series(data=functional_eff(vals))\n",
        "  \n",
        "  mode1 = modal_control(SCs90[i])\n",
        "\n",
        "  avg_control1 = avg_controllability(SCs90[i])\n",
        "  \n",
        "  a,b=correlation_plot_bw_measures(SCs90[i],l2Dist,F_eff,mode1,avg_control)\n",
        "  measures.append(b)\n",
        "  correlations.append(a)\n",
        "  \n",
        "  \n",
        "  "
      ],
      "execution_count": 0,
      "outputs": []
    },
    {
      "cell_type": "code",
      "metadata": {
        "id": "hCRG0Qv-vIGq",
        "colab_type": "code",
        "colab": {}
      },
      "source": [
        "temp_dict1 = {'degree':[],'closeness_centrality':[],'triangles':[],\n",
        "               'betweenness_centrality':[],\n",
        "               'degree_centrality':[],'energy':[],\n",
        "               'functional effect':[],'modal_controllability':[],'average_controllability':[]}\n",
        "\n",
        "\n",
        "temp = []\n",
        "for i in measures:\n",
        "  temp.append(i.mean(axis=0).values)\n",
        "  \n",
        "mat = np.matrix(temp)\n",
        "columns=['degree','closeness_centrality','triangles',\n",
        "               'betweenness_centrality',\n",
        "               'degree_centrality','energy',\n",
        "               'functional effect','modal_controllability','average_controllability']\n",
        "df_hm1 = pd.DataFrame(data=mat,columns=columns)\n",
        "for i in columns:\n",
        "  plt.boxplot(df_hm1[i],labels=[i])\n",
        "  plt.show()\n",
        "# df = pd.DataFrame(np.random.randn(10,4),columns=['Col1', 'Col2', 'Col3', 'Col4'])\n",
        "# boxplot = df.boxplot(column=['Col1', 'Col2', 'Col3'])"
      ],
      "execution_count": 0,
      "outputs": []
    },
    {
      "cell_type": "code",
      "metadata": {
        "id": "UslUVe9zBp0v",
        "colab_type": "code",
        "colab": {}
      },
      "source": [
        "temp2 = []\n",
        "for i in correlations:\n",
        "  temp2.append(i.mean(axis=0))\n",
        "  \n",
        "matr = np.matrix(temp2)\n",
        "columns=['degree','closeness_centrality','triangles',\n",
        "               'betweenness_centrality',\n",
        "               'degree_centrality','energy',\n",
        "               'functional effect','modal_controllability','average_controllability']\n",
        "df_hm2 = pd.DataFrame(data=matr,columns=columns)\n",
        "\n",
        "plt.boxplot(df_hm2.values,labels=columns,vert=False)\n",
        "plt.show()"
      ],
      "execution_count": 0,
      "outputs": []
    },
    {
      "cell_type": "code",
      "metadata": {
        "id": "oRfxKwRRCiyl",
        "colab_type": "code",
        "colab": {}
      },
      "source": [
        "temp3 = []\n",
        "for i in correlations:\n",
        "  temp3.append(np.matrix(i))\n",
        "  \n",
        "var = np.var(temp3,axis=0)\n",
        "\n",
        "fig.suptitle(\"Pearson correlations between measures\")\n",
        "ax = sns.heatmap(var,xticklabels=columns,yticklabels=columns)\n",
        "\n",
        "plt.show()\n"
      ],
      "execution_count": 0,
      "outputs": []
    },
    {
      "cell_type": "code",
      "metadata": {
        "id": "OGUXqnDiKyYK",
        "colab_type": "code",
        "colab": {
          "base_uri": "https://localhost:8080/",
          "height": 231
        },
        "outputId": "baf3a1e9-9ea5-45de-92bf-84f53f367e0d"
      },
      "source": [
        "a = np.histogram(SCs90)\n",
        "\n",
        "\n",
        "plt.hist(x=a[0],bins= a[1], histtype='step')  # arguments are passed to np.histogram\n",
        "plt.title(\"Histogram with 'auto' bins\")\n",
        "plt.show()"
      ],
      "execution_count": 31,
      "outputs": [
        {
          "output_type": "error",
          "ename": "NameError",
          "evalue": "ignored",
          "traceback": [
            "\u001b[0;31m---------------------------------------------------------------------------\u001b[0m",
            "\u001b[0;31mNameError\u001b[0m                                 Traceback (most recent call last)",
            "\u001b[0;32m<ipython-input-31-8ec045d9d6f7>\u001b[0m in \u001b[0;36m<module>\u001b[0;34m()\u001b[0m\n\u001b[0;32m----> 1\u001b[0;31m \u001b[0ma\u001b[0m \u001b[0;34m=\u001b[0m \u001b[0mnp\u001b[0m\u001b[0;34m.\u001b[0m\u001b[0mhistogram\u001b[0m\u001b[0;34m(\u001b[0m\u001b[0mSCs90\u001b[0m\u001b[0;34m)\u001b[0m\u001b[0;34m\u001b[0m\u001b[0;34m\u001b[0m\u001b[0m\n\u001b[0m\u001b[1;32m      2\u001b[0m \u001b[0;34m\u001b[0m\u001b[0m\n\u001b[1;32m      3\u001b[0m \u001b[0;34m\u001b[0m\u001b[0m\n\u001b[1;32m      4\u001b[0m \u001b[0mplt\u001b[0m\u001b[0;34m.\u001b[0m\u001b[0mhist\u001b[0m\u001b[0;34m(\u001b[0m\u001b[0mx\u001b[0m\u001b[0;34m=\u001b[0m\u001b[0ma\u001b[0m\u001b[0;34m[\u001b[0m\u001b[0;36m0\u001b[0m\u001b[0;34m]\u001b[0m\u001b[0;34m,\u001b[0m\u001b[0mbins\u001b[0m\u001b[0;34m=\u001b[0m \u001b[0ma\u001b[0m\u001b[0;34m[\u001b[0m\u001b[0;36m1\u001b[0m\u001b[0;34m]\u001b[0m\u001b[0;34m,\u001b[0m \u001b[0mhisttype\u001b[0m\u001b[0;34m=\u001b[0m\u001b[0;34m'step'\u001b[0m\u001b[0;34m)\u001b[0m  \u001b[0;31m# arguments are passed to np.histogram\u001b[0m\u001b[0;34m\u001b[0m\u001b[0;34m\u001b[0m\u001b[0m\n\u001b[1;32m      5\u001b[0m \u001b[0mplt\u001b[0m\u001b[0;34m.\u001b[0m\u001b[0mtitle\u001b[0m\u001b[0;34m(\u001b[0m\u001b[0;34m\"Histogram with 'auto' bins\"\u001b[0m\u001b[0;34m)\u001b[0m\u001b[0;34m\u001b[0m\u001b[0;34m\u001b[0m\u001b[0m\n",
            "\u001b[0;31mNameError\u001b[0m: name 'SCs90' is not defined"
          ]
        }
      ]
    }
  ]
}